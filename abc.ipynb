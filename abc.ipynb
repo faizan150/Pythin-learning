{
 "cells": [
  {
   "cell_type": "code",
   "execution_count": 7,
   "metadata": {},
   "outputs": [
    {
     "name": "stdout",
     "output_type": "stream",
     "text": [
      "Muhammad Faizan\n",
      "7\n",
      "Muhammad Faizan\n",
      "From there we are testing the Class of the Objects\n",
      "<class 'int'>\n",
      "<class 'str'>\n",
      "End\n",
      "['__add__', '__class__', '__contains__', '__delattr__', '__dir__', '__doc__', '__eq__', '__format__', '__ge__', '__getattribute__', '__getitem__', '__getnewargs__', '__getstate__', '__gt__', '__hash__', '__init__', '__init_subclass__', '__iter__', '__le__', '__len__', '__lt__', '__mod__', '__mul__', '__ne__', '__new__', '__reduce__', '__reduce_ex__', '__repr__', '__rmod__', '__rmul__', '__setattr__', '__sizeof__', '__str__', '__subclasshook__', 'capitalize', 'casefold', 'center', 'count', 'encode', 'endswith', 'expandtabs', 'find', 'format', 'format_map', 'index', 'isalnum', 'isalpha', 'isascii', 'isdecimal', 'isdigit', 'isidentifier', 'islower', 'isnumeric', 'isprintable', 'isspace', 'istitle', 'isupper', 'join', 'ljust', 'lower', 'lstrip', 'maketrans', 'partition', 'removeprefix', 'removesuffix', 'replace', 'rfind', 'rindex', 'rjust', 'rpartition', 'rsplit', 'rstrip', 'split', 'splitlines', 'startswith', 'strip', 'swapcase', 'title', 'translate', 'upper', 'zfill']\n"
     ]
    }
   ],
   "source": [
    "a = 'Muhammad Faizan'\n",
    "print(a)\n",
    "\n",
    "a = 7\n",
    "\n",
    "print(a)\n",
    "\n",
    "name :  str = 'Muhammad Faizan'\n",
    "    \n",
    "print(name)\n",
    "\n",
    "print('From there we are testing the Class of the Objects')\n",
    "\n",
    "a : int = 10\n",
    "\n",
    "print(type (a))\n",
    "\n",
    "p : str = 'faiz'\n",
    "\n",
    "print(type(p))\n",
    "\n",
    "print('End')\n",
    "\n",
    "print(dir(p))"
   ]
  },
  {
   "cell_type": "code",
   "execution_count": null,
   "metadata": {},
   "outputs": [],
   "source": [
    "float = 10.24"
   ]
  },
  {
   "cell_type": "code",
   "execution_count": 8,
   "metadata": {},
   "outputs": [
    {
     "name": "stdout",
     "output_type": "stream",
     "text": [
      "['__abs__', '__add__', '__and__', '__bool__', '__ceil__', '__class__', '__delattr__', '__dir__', '__divmod__', '__doc__', '__eq__', '__float__', '__floor__', '__floordiv__', '__format__', '__ge__', '__getattribute__', '__getnewargs__', '__getstate__', '__gt__', '__hash__', '__index__', '__init__', '__init_subclass__', '__int__', '__invert__', '__le__', '__lshift__', '__lt__', '__mod__', '__mul__', '__ne__', '__neg__', '__new__', '__or__', '__pos__', '__pow__', '__radd__', '__rand__', '__rdivmod__', '__reduce__', '__reduce_ex__', '__repr__', '__rfloordiv__', '__rlshift__', '__rmod__', '__rmul__', '__ror__', '__round__', '__rpow__', '__rrshift__', '__rshift__', '__rsub__', '__rtruediv__', '__rxor__', '__setattr__', '__sizeof__', '__str__', '__sub__', '__subclasshook__', '__truediv__', '__trunc__', '__xor__', 'as_integer_ratio', 'bit_count', 'bit_length', 'conjugate', 'denominator', 'from_bytes', 'imag', 'is_integer', 'numerator', 'real', 'to_bytes']\n"
     ]
    }
   ],
   "source": [
    "a : float = 10\n",
    "\n",
    "\n",
    "print(dir(a))"
   ]
  },
  {
   "cell_type": "code",
   "execution_count": 9,
   "metadata": {},
   "outputs": [
    {
     "ename": "NameError",
     "evalue": "name 'boolean' is not defined",
     "output_type": "error",
     "traceback": [
      "\u001b[1;31m---------------------------------------------------------------------------\u001b[0m",
      "\u001b[1;31mNameError\u001b[0m                                 Traceback (most recent call last)",
      "\u001b[1;32md:\\Air University Learning\\Generative AI\\Python learning\\Class 1\\abc.ipynb Cell 4\u001b[0m line \u001b[0;36m1\n\u001b[1;32m----> <a href='vscode-notebook-cell:/d%3A/Air%20University%20Learning/Generative%20AI/Python%20learning/Class%201/abc.ipynb#W3sZmlsZQ%3D%3D?line=0'>1</a>\u001b[0m a : boolean \u001b[39m=\u001b[39m \u001b[39mTrue\u001b[39;00m\n\u001b[0;32m      <a href='vscode-notebook-cell:/d%3A/Air%20University%20Learning/Generative%20AI/Python%20learning/Class%201/abc.ipynb#W3sZmlsZQ%3D%3D?line=3'>4</a>\u001b[0m \u001b[39mprint\u001b[39m(\u001b[39mdir\u001b[39m(a))\n",
      "\u001b[1;31mNameError\u001b[0m: name 'boolean' is not defined"
     ]
    }
   ],
   "source": [
    "a : list = True\n",
    "\n",
    "\n",
    "print(dir(a))"
   ]
  },
  {
   "cell_type": "code",
   "execution_count": null,
   "metadata": {},
   "outputs": [],
   "source": [
    "a : list[str] = ['Object 1', 'Object 2', 'Object 3']\n",
    "b : list[int] = [1, 2,2,2,2, 3]\n",
    "\n",
    "print(a,set(b))\n",
    "print(dir(a), dir(b))"
   ]
  },
  {
   "cell_type": "code",
   "execution_count": null,
   "metadata": {},
   "outputs": [],
   "source": [
    "a : list[str] = ['Object 1', 'Object 2', 'Object 3']\n",
    "b : dict[int, int] = { 'a':'3','b':'5','c':'6', 'age':15 }\n",
    "\n",
    "print(b)"
   ]
  },
  {
   "cell_type": "code",
   "execution_count": null,
   "metadata": {},
   "outputs": [],
   "source": [
    "b : tuple[int, str, float] = ( 12,'faizan' , 12.212 )\n",
    "\n",
    "print(b)"
   ]
  },
  {
   "cell_type": "code",
   "execution_count": 11,
   "metadata": {},
   "outputs": [
    {
     "name": "stdout",
     "output_type": "stream",
     "text": [
      "This is the chapter 2 about the Data Types\n",
      "This is Muhammad Faizan\n"
     ]
    }
   ],
   "source": [
    "print(\"This is the chapter 2 about the Data Types\")\n",
    "a : str = \"This is Muhammad Faizan\"\n",
    "print(a)"
   ]
  },
  {
   "cell_type": "code",
   "execution_count": 12,
   "metadata": {},
   "outputs": [
    {
     "name": "stdout",
     "output_type": "stream",
     "text": [
      "line 1                                        line 2                                        line 3\n"
     ]
    }
   ],
   "source": [
    "b : str = 'line 1\\\n",
    "                                        line 2\\\n",
    "                                        line 3'\n",
    "\n",
    "print(b)"
   ]
  },
  {
   "cell_type": "code",
   "execution_count": 13,
   "metadata": {},
   "outputs": [
    {
     "name": "stdout",
     "output_type": "stream",
     "text": [
      "PIAIC Student card \n",
      " Student name:\tMuhammad Faizan\n",
      "Father Name: \tAbdul Rasheed\n",
      "Age :22\n"
     ]
    }
   ],
   "source": [
    "name : str = 'Muhammad Faizan'\n",
    "fatherName : str = 'Abdul Rasheed'\n",
    "age : int = 22\n",
    "education : str = 'Graduation'\n",
    "\n",
    "card : str = 'PIAIC Student card \\n Student name:\\t' + name + '\\nFather Name: \\t' + fatherName + '\\nAge :' + str(age) \n",
    "\n",
    "print('Just doing and concatinating and also casting the data')\n",
    "print(card)"
   ]
  },
  {
   "cell_type": "code",
   "execution_count": null,
   "metadata": {},
   "outputs": [],
   "source": [
    "name : str = 'Muhammad Faizan'\n",
    "fatherName : str = 'Abdul Rasheed'\n",
    "age : int = 22\n",
    "education : str = 'Graduation'\n",
    "\n",
    "card : str = f\"\"\"\n",
    "    PIAIC Student Card\n",
    "    Student name:\\t{name}\n",
    "    FatherName:\\t{fatherName}\n",
    "    Age:\\t{age}\n",
    "    Education:\\t{education}\n",
    "\"\"\"\n",
    "\n",
    "print(card)"
   ]
  },
  {
   "cell_type": "code",
   "execution_count": null,
   "metadata": {},
   "outputs": [],
   "source": [
    "name : str = 'Muhammad Faizan'\n",
    "fatherName : str = 'Abdul Rasheed'\n",
    "age : int = 22\n",
    "education : str = 'Graduation'\n",
    "\n",
    "card : str = \"\"\"\n",
    "    PIAIC Student Card\n",
    "    Student name:\\t{}\n",
    "    FatherName:\\t{}\n",
    "    Age:\\t{}\n",
    "    Education:\\t{}\n",
    "\"\"\".format(name,fatherName,age,education)\n",
    "\n",
    "print(card)"
   ]
  },
  {
   "cell_type": "code",
   "execution_count": null,
   "metadata": {},
   "outputs": [],
   "source": [
    "name : str = 'Muhammad Faizan'\n",
    "fatherName : str = 'Abdul Rasheed'\n",
    "age : int = 22\n",
    "education : str = 'Graduation'\n",
    "\n",
    "card : str = \"\"\"\n",
    "    PIAIC Student Card\n",
    "    Student name:\\t(1)\n",
    "    FatherName:\\t(0)\n",
    "    Age:\\t(3)\n",
    "    Education:\\t(2)\n",
    "\"\"\".format(fatherName,name,education,age)\n",
    "\n",
    "print(card)"
   ]
  },
  {
   "cell_type": "code",
   "execution_count": null,
   "metadata": {},
   "outputs": [],
   "source": [
    "name : str = 'Muhammad Faizan'\n",
    "fatherName : str = 'Abdul Rasheed'\n",
    "age : int = 22\n",
    "education : str = 'Graduation'\n",
    "\n",
    "card : str = \"\"\"\n",
    "    PIAIC Student Card\n",
    "    Student name:\\t{a}\n",
    "    FatherName:\\t{b}\n",
    "    Age:\\t{c}\n",
    "    Education:\\t{d}\n",
    "\"\"\".format(b=fatherName,a=name,d=education,c=age)\n",
    "\n",
    "print(card)"
   ]
  },
  {
   "cell_type": "code",
   "execution_count": null,
   "metadata": {},
   "outputs": [],
   "source": [
    "name : str = 'Muhammad Faizan'\n",
    "fatherName : str = 'Abdul Rasheed'\n",
    "age : int = 22\n",
    "education : str = 'Graduation'\n",
    "\n",
    "card : str = \"\"\"\n",
    "    PIAIC Student Card\n",
    "    Student name:\\t%s\n",
    "    FatherName:\\t%s\n",
    "    Age:\\t%d\n",
    "    Education:\\t%s\n",
    "\"\"\"%(name, fatherName, age, education)\n",
    "\n",
    "print(card)"
   ]
  }
 ],
 "metadata": {
  "kernelspec": {
   "display_name": "py12",
   "language": "python",
   "name": "python3"
  },
  "language_info": {
   "codemirror_mode": {
    "name": "ipython",
    "version": 3
   },
   "file_extension": ".py",
   "mimetype": "text/x-python",
   "name": "python",
   "nbconvert_exporter": "python",
   "pygments_lexer": "ipython3",
   "version": "3.12.0"
  }
 },
 "nbformat": 4,
 "nbformat_minor": 2
}
